{
 "metadata": {
  "name": ""
 },
 "nbformat": 3,
 "nbformat_minor": 0,
 "worksheets": [
  {
   "cells": [
    {
     "cell_type": "markdown",
     "metadata": {},
     "source": [
      "### Examples\n",
      "HTTP is based on requests and responses - the client makes requests and servers send responses"
     ]
    },
    {
     "cell_type": "code",
     "collapsed": false,
     "input": [
      "import urllib2\n",
      "\n",
      "url = 'http://api.newscred.com/topics?access_key=*&format=json'\n",
      "response = urllib2.urlopen(url)\n",
      "result = response.read()\n",
      "result"
     ],
     "language": "python",
     "metadata": {},
     "outputs": [
      {
       "metadata": {},
       "output_type": "pyout",
       "prompt_number": 68,
       "text": [
        "'{\"topic_set\": [{\"name\": \"App Controlled Devices \", \"topic_group\": \"App Controlled Devices\", \"dashed_name\": \"App-Controlled-Devices \", \"image_url\": \"http://api.newscred.com/img/topic_theme_default.png\", \"guid\": \"dd3185182620ce308ecc7e7bcebd11b3\", \"topic_classification\": \"Theme\", \"metadata\": {}}, {\"name\": \"Stock Car Racing\", \"topic_group\": \"Stock Car Racing\", \"dashed_name\": \"Stock-Car-Racing\", \"image_url\": \"http://images.newscred.com/Zz1iMWFkMjZlNmI4M2QxMjAyNGM3ZTRjNmMxZDdlMWM3Ng==?width=75&height=75\", \"guid\": \"64eae8ecf3755e5dbb1023905b973072\", \"topic_classification\": \"Theme\", \"metadata\": {}}, {\"name\": \"Volkswagen Beetle\", \"topic_group\": \"Volkswagen Beetle\", \"dashed_name\": \"Volkswagen-Beetle\", \"image_url\": \"http://images.newscred.com/cD1PUk0rQWNjZXNzJmc9ZjYzYWJmNWVkYmFiMzBiMDVjZTAyNWJlNmM1YmMwMTI=?width=75&height=75\", \"guid\": \"dbaed8545d2ab17a3958be9e526b488d\", \"topic_classification\": \"Product\", \"metadata\": {}}, {\"name\": \"Volkswagen Beetle Dune\", \"topic_group\": \"Volkswagen Beetle Dune\", \"dashed_name\": \"Volkswagen-Beetle-Dune\", \"image_url\": \"http://api.newscred.com/img/topic_product_default.png\", \"guid\": \"4d33c6b6aa7ef3499a91de8118c11a6e\", \"topic_classification\": \"Product\", \"metadata\": {}}, {\"name\": \"Banger Racing\", \"topic_group\": \"Banger Racing\", \"dashed_name\": \"Banger-Racing\", \"topic_subclassification\": \"Sport\", \"image_url\": \"http://images.newscred.com/Zz1jYmE5NWZiNTZhNGZkY2Y5MjJhZTlmYjk3ZTEzMTUyZg==?width=75&height=75\", \"guid\": \"12cd7f086723c1241df21090a62144d6\", \"topic_classification\": \"Theme\", \"metadata\": {}}, {\"name\": \"FIA Formula E Championship\", \"topic_group\": \"FIA Formula E Championship\", \"dashed_name\": \"FIA-Formula-E-Championship\", \"topic_subclassification\": \"Sporting Event\", \"image_url\": \"http://images.newscred.com/Zz00NjNhZjNjMDlmNjdmN2Y2ODllNjBkYWY2NTZmOWZhNw==?width=75&height=75\", \"guid\": \"b754d64535eb4cf0e82569638dc904ac\", \"topic_classification\": \"Event\", \"metadata\": {}}, {\"name\": \"Driverless Cars\", \"topic_group\": \"Driverless Cars\", \"dashed_name\": \"Driverless-Cars\", \"topic_subclassification\": \"Technology Industry\", \"image_url\": \"http://api.newscred.com/img/topic_theme_default.png\", \"guid\": \"023e0db80d53b5d6ba6c895f64bca54d\", \"topic_classification\": \"Theme\", \"metadata\": {}}, {\"name\": \"Connected Home\", \"topic_group\": \"Connected Home\", \"dashed_name\": \"Connected-Home\", \"image_url\": \"http://api.newscred.com/img/topic_theme_default.png\", \"guid\": \"42b5a0fa397930a1a451c155e2492fbc\", \"topic_classification\": \"Theme\", \"metadata\": {}}, {\"name\": \"Herbie\", \"topic_group\": \"Herbie\", \"dashed_name\": \"Herbie\", \"topic_subclassification\": \"Movie\", \"image_url\": \"http://images.newscred.com/Zz0zZWRjMDNhMTAyYjhjMWI5MTIyN2IxMDk1NmQ3ZWY5MQ==?width=75&height=75\", \"guid\": \"23ef610cef1c40ada8cd3d25a8881039\", \"topic_classification\": \"Product\", \"metadata\": {}}, {\"name\": \"Sochi Olympics\", \"topic_group\": \"Sochi Olympics\", \"dashed_name\": \"Sochi-Olympics\", \"image_url\": \"http://api.newscred.com/img/topic_organization_default.png\", \"guid\": \"2fa4c5e6363e6503daf47b9d6ba53378\", \"topic_classification\": \"Organization\", \"metadata\": {}}], \"num_found\": 66308}'"
       ]
      }
     ],
     "prompt_number": 68
    },
    {
     "cell_type": "code",
     "collapsed": false,
     "input": [
      "import urllib\n",
      "import json\n",
      "\n",
      "# Prepare the url\n",
      "host = 'http://api.newscred.com'\n",
      "path = '/topics'\n",
      "\n",
      "query_string = {\n",
      "                'access_key' : '*',\n",
      "                'format' : 'json',\n",
      "                'pagesize' : 500\n",
      "                }\n",
      "\n",
      "url_values = urllib.urlencode(query_string)\n",
      "#print url_values\n",
      "full_url = host + path + '?' + url_values\n",
      "#print full_url\n",
      "req = urllib2.Request(full_url)\n",
      "response = urllib2.urlopen(req)\n",
      "result = response.read()\n",
      "#type(result)\n",
      "\n",
      "data = json.loads(result.decode('utf8'))\n",
      "#type(data)\n",
      "#data['num_found']\n",
      "for topic in data['topic_set']:\n",
      "    topic_name = topic['name']\n",
      "    if topic_name.find(\"Olympics\") >= 0:\n",
      "        #print topic_name + ' : ' + topic['guid']\n",
      "        print \"%s : %s\" %(topic_name, topic['guid'])\n",
      "    "
     ],
     "language": "python",
     "metadata": {},
     "outputs": [
      {
       "output_type": "stream",
       "stream": "stdout",
       "text": [
        "Sochi Olympics : 2fa4c5e6363e6503daf47b9d6ba53378\n"
       ]
      }
     ],
     "prompt_number": 74
    },
    {
     "cell_type": "markdown",
     "metadata": {},
     "source": [
      "### Python Standard Library\n",
      "http://docs.python.org/2/library/\n",
      "\n",
      "* A collection of implementations of behavior that has a well-defined interface by which the behavior is invoked *\n",
      "* It does not need to be re-written to implement those behavior over and over again *\n",
      "* In addition, the behavior is provided for reuse by multiple independent programs *"
     ]
    },
    {
     "cell_type": "markdown",
     "metadata": {},
     "source": [
      "### Data Types"
     ]
    },
    {
     "cell_type": "code",
     "collapsed": false,
     "input": [
      "#String\n",
      "topic_name  = \"Sochi Olympics\"\n",
      "#Numbers\n",
      "num_found = 1000.00\n",
      "#Boolean (bool)\n",
      "yes = True\n",
      "no = False\n",
      "#List\n",
      "topics = ['topic1', 'topic2', 'topic3']\n",
      "#Dictionary\n",
      "topic  = {\n",
      "          \"name\": \"App Controlled Devices \", \n",
      "          \"topic_group\": \"App Controlled Devices\", \n",
      "          \"dashed_name\": \"App-Controlled-Devices \", \n",
      "          \"image_url\": \"http://api.newscred.com/img/topic_theme_default.png\", \n",
      "          \"guid\": \"dd3185182620ce308ecc7e7bcebd11b3\", \n",
      "          \"topic_classification\": \"Theme\", \n",
      "          \"metadata\": {}\n",
      "          }\n",
      "#Tuple\n",
      "#Tuples can be thought of as read-only lists\n",
      "tuples = ( 'abcd', 786 , 2.23, 'john', 70.2  )\n",
      "\n",
      "#Set\n",
      "#A set is an unordered collection of unique elements. Basic uses include dealing with set theory \n",
      "#(which support mathematical operations like union, intersection, difference, and symmetric difference) \n",
      "#or eliminating duplicate entries. See the following statements.\n",
      "names = set(['Russel', 'Nure', 'Khalid', 'Russel'])"
     ],
     "language": "python",
     "metadata": {},
     "outputs": [],
     "prompt_number": 76
    },
    {
     "cell_type": "code",
     "collapsed": false,
     "input": [
      "#String\n",
      "topic_name[0:3]\n",
      "topic_name + \" 2014\"\n",
      "#topic_name"
     ],
     "language": "python",
     "metadata": {},
     "outputs": [
      {
       "metadata": {},
       "output_type": "pyout",
       "prompt_number": 82,
       "text": [
        "'Sochi Olympics 2014'"
       ]
      }
     ],
     "prompt_number": 82
    },
    {
     "cell_type": "code",
     "collapsed": false,
     "input": [
      "\"Hello\" + \"World\""
     ],
     "language": "python",
     "metadata": {},
     "outputs": [
      {
       "metadata": {},
       "output_type": "pyout",
       "prompt_number": 83,
       "text": [
        "'HelloWorld'"
       ]
      }
     ],
     "prompt_number": 83
    },
    {
     "cell_type": "code",
     "collapsed": false,
     "input": [
      "yes == no\n",
      "#yes = 'True' It is a string not a boolean"
     ],
     "language": "python",
     "metadata": {},
     "outputs": [
      {
       "metadata": {},
       "output_type": "pyout",
       "prompt_number": 84,
       "text": [
        "False"
       ]
      }
     ],
     "prompt_number": 84
    },
    {
     "cell_type": "code",
     "collapsed": false,
     "input": [
      "no == no"
     ],
     "language": "python",
     "metadata": {},
     "outputs": [
      {
       "metadata": {},
       "output_type": "pyout",
       "prompt_number": 85,
       "text": [
        "True"
       ]
      }
     ],
     "prompt_number": 85
    },
    {
     "cell_type": "code",
     "collapsed": false,
     "input": [
      "no == True"
     ],
     "language": "python",
     "metadata": {},
     "outputs": [
      {
       "metadata": {},
       "output_type": "pyout",
       "prompt_number": 86,
       "text": [
        "False"
       ]
      }
     ],
     "prompt_number": 86
    },
    {
     "cell_type": "code",
     "collapsed": false,
     "input": [
      "#List\n",
      "topics[0:3]\n",
      "topics + ['topic4', 'topic4']"
     ],
     "language": "python",
     "metadata": {},
     "outputs": [
      {
       "metadata": {},
       "output_type": "pyout",
       "prompt_number": 88,
       "text": [
        "['topic1', 'topic2', 'topic3', 'topic4', 'topic4']"
       ]
      }
     ],
     "prompt_number": 88
    },
    {
     "cell_type": "code",
     "collapsed": false,
     "input": [
      "#Dictionary \n",
      "#topic.keys()\n",
      "topic.values()\n",
      "topic['guid']"
     ],
     "language": "python",
     "metadata": {},
     "outputs": [
      {
       "metadata": {},
       "output_type": "pyout",
       "prompt_number": 92,
       "text": [
        "'dd3185182620ce308ecc7e7bcebd11b3'"
       ]
      }
     ],
     "prompt_number": 92
    },
    {
     "cell_type": "markdown",
     "metadata": {},
     "source": [
      "### Null object"
     ]
    },
    {
     "cell_type": "code",
     "collapsed": false,
     "input": [
      "money = None\n",
      "money"
     ],
     "language": "python",
     "metadata": {},
     "outputs": [],
     "prompt_number": 93
    },
    {
     "cell_type": "code",
     "collapsed": false,
     "input": [
      "print money"
     ],
     "language": "python",
     "metadata": {},
     "outputs": [
      {
       "output_type": "stream",
       "stream": "stdout",
       "text": [
        "None\n"
       ]
      }
     ],
     "prompt_number": 94
    },
    {
     "cell_type": "code",
     "collapsed": false,
     "input": [
      "money == None"
     ],
     "language": "python",
     "metadata": {},
     "outputs": [
      {
       "metadata": {},
       "output_type": "pyout",
       "prompt_number": 95,
       "text": [
        "True"
       ]
      }
     ],
     "prompt_number": 95
    },
    {
     "cell_type": "markdown",
     "metadata": {},
     "source": [
      "### Function\n",
      "f(x) = x^2\n",
      "\n",
      "y = f(x)"
     ]
    },
    {
     "cell_type": "code",
     "collapsed": false,
     "input": [
      "def square(x):\n",
      "    return x * x"
     ],
     "language": "python",
     "metadata": {},
     "outputs": [],
     "prompt_number": 96
    },
    {
     "cell_type": "code",
     "collapsed": false,
     "input": [
      "square(190)"
     ],
     "language": "python",
     "metadata": {},
     "outputs": [
      {
       "metadata": {},
       "output_type": "pyout",
       "prompt_number": 98,
       "text": [
        "36100"
       ]
      }
     ],
     "prompt_number": 98
    },
    {
     "cell_type": "markdown",
     "metadata": {},
     "source": [
      "### Loop"
     ]
    },
    {
     "cell_type": "code",
     "collapsed": false,
     "input": [
      "topics"
     ],
     "language": "python",
     "metadata": {},
     "outputs": [
      {
       "metadata": {},
       "output_type": "pyout",
       "prompt_number": 99,
       "text": [
        "['topic1', 'topic2', 'topic3']"
       ]
      }
     ],
     "prompt_number": 99
    },
    {
     "cell_type": "code",
     "collapsed": false,
     "input": [
      "for t in topics:\n",
      "    print t + ' 2013'"
     ],
     "language": "python",
     "metadata": {},
     "outputs": [
      {
       "output_type": "stream",
       "stream": "stdout",
       "text": [
        "topic1 2013\n",
        "topic2 2013\n",
        "topic3 2013\n"
       ]
      }
     ],
     "prompt_number": 101
    },
    {
     "cell_type": "markdown",
     "metadata": {},
     "source": [
      "### Conditional Statement"
     ]
    },
    {
     "cell_type": "code",
     "collapsed": false,
     "input": [
      "marks = 35\n",
      "\n",
      "if marks < 40:\n",
      "    print \"Failed\"\n",
      "elif  40 <= marks < 50:\n",
      "    print \"D\"\n",
      "elif 50 <= marks < 60:\n",
      "    print \"C\"\n",
      "elif 60 <= marks < 70:\n",
      "    print \"B\"\n",
      "elif 70 <= marks < 80:\n",
      "    print \"A\"\n",
      "else:\n",
      "    print \"A+\""
     ],
     "language": "python",
     "metadata": {},
     "outputs": [
      {
       "output_type": "stream",
       "stream": "stdout",
       "text": [
        "Failed\n"
       ]
      }
     ],
     "prompt_number": 105
    },
    {
     "cell_type": "markdown",
     "metadata": {},
     "source": [
      "### Excercises\n",
      "Find out all sources from newscred API which is related to \"olympics\" related."
     ]
    },
    {
     "cell_type": "code",
     "collapsed": false,
     "input": [],
     "language": "python",
     "metadata": {},
     "outputs": []
    }
   ],
   "metadata": {}
  }
 ]
}